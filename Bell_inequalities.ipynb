{
 "cells": [
  {
   "cell_type": "markdown",
   "id": "6369fd1a",
   "metadata": {},
   "source": [
    "#   Неравенства Белла, квантовая запутанность\n",
    "\n",
    "    Я водитель грузовика. Ну, ок, прямо сейчас не водитель. У меня сейчас другая работа. Не суть. Мы с парнями из гаража регулярно встречаемся, обсуждаем разное. У нас в гараже народ любознательный, много любителей почитать-посмотреть всякий научпоп. Решили мы недавно разобраться с квантовой запутанностью,  неравенствами Белла и нелокальностью.\n",
    "    \n",
    "    Началось все с того, что Макс с Аликом заспорили. Макс топит за суперпозицию состояний и фундаментальную неопределенность, Алик - за скрытые параметры. Каждый конечно - в меру своего шоферского понимания проблемы. Я говорю, чего вы спорите? Все уже давно решено. Есть парадоркс ЭПР, есть неравенства Белла. Проводили реальные эксперименты. В реальных экспериментах неравенства не выполняются. Значит нет никаких скрытых параметров.\n",
    "    \n",
    "    Макс говорит, да, все так, но Алика это не убеждает, потому, что он этого не понимает. Я, говорит, тоже не понимаю, но верю. А он не верит. А объяснить ему я, говорит, не могу, потому, что, как сказал, сам не понимаю. Пытались сесть разобраться вдвоем, только вконец запутали друг друга. Вот у тебя, говорит, с математикой-физикой вроде хорошо, может ты нам объяснишь?\n",
    "    \n",
    "    Ну, у меня в школе действительно с математикой было неплохо. На олимпиады даже ездил, бывало. Районные. Грамоты там получал, а то и книжку какую-нибудь, фломастеры. А насчет физики - это он мне польстил, конечно. Как-то кусками я ее учил, фрагментарно. Тут знаю, тут не знаю...\n",
    "    \n",
    "    Но, говорю, давай. Попробуем. Прямо вот сходу, говорю, не готов, но я подберу какую-нибудь статью попроще, на Хабре, например. Такую, чисто для шоферов. И мы ее разберем. Осмотрелся, выбрал вот эту:\n",
    "https://habr.com/ru/post/540620/\n",
    "\n",
    "    Сели мы разбираться.\n",
    "    \n",
    "    В статье про свет, фотоны, поляризацию. В принципе, все преподносится на уровне школьного курса математики-физики. Я предлагаю, давайте строить два варианта теории. На реальную квантовую механику у нас конечно ни образования, ни мозгов не хватит. Но мы будем строить два варианта такой примитивной, на базе школьного курса, Шоферской Квантовой Механики. Это будет \"Чистая Шоферская Теория\" (ЧШТ), теория Макса, и \"Шоферская Теория со Скрытыми Параметрами\" (ШТСП), теория Алика.\n",
    "    \n",
    "    Строить эти теории будем на бумаге. Когда построим, прикинем, как нам оба варианта проверить с неравенствами Белла? Какой получится результат в том и другом случае? Если понадобится, что-нибудь численно смоделируем-посчитаем. Я немного программирую, чисто по фану. Думаю, смогу. Глядишь, в процессе что-нибудь прояснится.\n",
    "    \n",
    "### Фотоны. Поляризация.\n",
    "\n",
    "   Начнем с того, что выберем систему координат. Пока нам нужно только выделить некоторое направление в пространстве. Например, для определенности, вертикаль. Допустим мы в нашем гараже прицепили к потолку отвес. Пусть это теперь и будет наша вертикаль. Идем дальше: поляризатор имеет ось. Если мы говорим: \"поляризатор повернут на угол $\\theta$\", или \"поляризатор с углом $\\theta$\", или еще что-то подобное - это означает, что ось поляризатора отклонена на угол $\\theta$ от вертикали. Если мы говорим \"любой поляризатор\" или \"произвольный поляризатор\" - значит, мы имеем в виду поляризатор, оптическая ось которого отклонена на какой-то произвольный угол.  \n",
    "    \n",
    "    С Чистой Шоферской Теорией все достаточно просто. Мы просто постулируем некоторое количество аксиом:\n",
    "    \n",
    "   __**Чистая Шоферская Теория**__\n",
    "    \n",
    "* Существуют фотоны\n",
    "* Фотоны имеют состояние, которое мы назовем \"поляризация\"\n",
    "* Поляризация может принимать значения в диапазоне от -90 до 90 с шагом 1\n",
    "* Фотон может быть либо в суперпозиции всех возможных поляризаций (значение поляризации не определено), либо иметь точно определенное значение поляризации.\n",
    "* Фотон в суперпозиции проходит через любой поляризатор с вероятностью 1/2.\n",
    "* После прохождения поляризатора фотон в суперпозиции переходит в состояние с определенным значением поляризации, равным углу отклонения поляризатора от вертикали и сохраняет это значение поляризации неопределенно долго.\n",
    "* Фотон, имеющий определенное значение поляризации, проходит через произвольный поляризатор с вероятностью \n",
    "$$P = cos^2\\theta$$ \n",
    "    где $\\theta$ - угол между осью поляризатора и поляризацией фотона (если значение поляризации интерпретировать как угол отклонения от вертикали)\n",
    "** Следствие 1: фотон, имеющий определенное значение поляризации, _**никогда**_ не проходит через поляризатор, с осью перпендикулярной поляризации фотона (если значение поляризации интерпретировать как угол отклонения от вертикали).\n",
    "** Следствие 2: фотон, имеющий определенное значение поляризации, _**всегда**_ проходит через поляризатор, с осью параллельной поляризации фотона (если значение поляризации интерпретировать как угол отклонения от вертикали).\n",
    "    \n",
    "\n",
    "\n",
    "\n"
   ]
  },
  {
   "cell_type": "code",
   "execution_count": 5,
   "id": "72093090",
   "metadata": {},
   "outputs": [
    {
     "name": "stdout",
     "output_type": "stream",
     "text": [
      "sum = \n",
      "0.5005555555555555\n"
     ]
    },
    {
     "data": {
      "image/png": "[encoded data removed]",
      "text/plain": [
       "<Figure size 432x288 with 1 Axes>"
      ]
     },
     "metadata": {
      "needs_background": "light"
     },
     "output_type": "display_data"
    }
   ],
   "source": [
    "import math\n",
    "import numpy as np\n",
    "import matplotlib as mpl\n",
    "import pylab\n",
    "# importing matplotlib module \n",
    "from matplotlib import pyplot as plt \n",
    "\n",
    "theta = range(900)\n",
    "polar_prob = list(theta)\n",
    "\n",
    "for i in theta:\n",
    "    polar_prob[i] = math.cos(math.radians(i/10)) * math.cos(math.radians(i/10))\n",
    "  \n",
    "# Function to plot \n",
    "#plt.plot(theta, polar_prob) \n",
    "\n",
    "# Adding Title\n",
    "plt.title(\"поляризация\")\n",
    "# Labeling the axes\n",
    "plt.xlabel(\"угол\")\n",
    "plt.ylabel(\"вероятность\")\n",
    "  \n",
    "# function to show the plot \n",
    "#plt.show()\n",
    "\n",
    "data = np.array(polar_prob)\n",
    "\n",
    "#plt.plot(theta, data) \n",
    "#plt.show()\n",
    "\n",
    "print('sum = ')\n",
    "print(data.sum() / 900) \n",
    "\n",
    "#*****************************************************\n",
    "\n",
    "theta_full = range(360)\n",
    "\n",
    "sinuses = list(theta_full)\n",
    "cosinuses = list(theta_full)\n",
    "\n",
    "for i in theta_full:\n",
    "    sinuses[i] = math.sin(math.radians(i))\n",
    "    cosinuses[i] = math.cos(math.radians(i))\n",
    "    \n",
    "# Создаем форматер\n",
    "xformatter = mpl.ticker.NullFormatter()\n",
    "yformatter = mpl.ticker.NullFormatter()\n",
    "\n",
    "# Установка форматера для оси X\n",
    "#plt.axes().xaxis.set_major_formatter(xformatter)\n",
    "#plt.axes().yaxis.set_major_formatter(yformatter)\n",
    "\n",
    "plt.gca().set_aspect('equal')\n",
    "\n",
    "\n",
    "plt.plot(sinuses, cosinuses) \n",
    "plt.show()"
   ]
  },
  {
   "cell_type": "code",
   "execution_count": null,
   "id": "1776fb29",
   "metadata": {},
   "outputs": [],
   "source": []
  },
  {
   "cell_type": "code",
   "execution_count": null,
   "id": "f3b34244",
   "metadata": {},
   "outputs": [],
   "source": []
  },
  {
   "cell_type": "code",
   "execution_count": null,
   "id": "39e36759",
   "metadata": {},
   "outputs": [],
   "source": []
  }
 ],
 "metadata": {
  "kernelspec": {
   "display_name": "Python 3 (ipykernel)",
   "language": "python",
   "name": "python3"
  },
  "language_info": {
   "codemirror_mode": {
    "name": "ipython",
    "version": 3
   },
   "file_extension": ".py",
   "mimetype": "text/x-python",
   "name": "python",
   "nbconvert_exporter": "python",
   "pygments_lexer": "ipython3",
   "version": "3.9.5"
  }
 },
 "nbformat": 4,
 "nbformat_minor": 5
}
